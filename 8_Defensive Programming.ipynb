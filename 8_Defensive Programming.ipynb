{
 "cells": [
  {
   "cell_type": "markdown",
   "metadata": {},
   "source": [
    "# Programming with Python - 8.Defensive Programming\n",
    "Our previous lessons have introduced the basic tools of programming: variables and lists, file I/O, loops, conditionals, and functions. What they haven’t done is show us how to tell whether a program is getting the right answer, and how to tell if it’s still getting the right answer as we make changes to it.\n",
    "\n",
    "To achieve that, we need to:\n",
    "\n",
    "- Write programs that check their own operation.\n",
    "- Write and run tests for widely-used functions.\n",
    "- Make sure we know what “correct” actually means.\n",
    "\n",
    "<br>\n",
    "The good news is, doing these things will speed up our programming, not slow it down. As in real carpentry — the kind done with lumber — the time saved by measuring carefully before cutting a piece of wood is much greater than the time that measuring takes."
   ]
  },
  {
   "cell_type": "markdown",
   "metadata": {},
   "source": [
    "# Assertions\n",
    "The first step toward getting the right answers from our programs is to assume that mistakes will happen and to guard against them. This is called defensive programming, and the most common way to do it is to add assertions to our code so that it checks itself as it runs. An assertion is simply a statement that something must be true at a certain point in a program. When Python sees one, it evaluates the assertion’s condition. If it’s true, Python does nothing, but if it’s false, Python halts the program immediately and prints the error message if one is provided. For example, this piece of code halts as soon as the loop encounters a value that isn’t positive:"
   ]
  },
  {
   "cell_type": "code",
   "execution_count": 1,
   "metadata": {},
   "outputs": [
    {
     "ename": "AssertionError",
     "evalue": "Data should only contain positive values",
     "output_type": "error",
     "traceback": [
      "\u001b[0;31m---------------------------------------------------------------------------\u001b[0m",
      "\u001b[0;31mAssertionError\u001b[0m                            Traceback (most recent call last)",
      "\u001b[0;32m<ipython-input-1-985f50018947>\u001b[0m in \u001b[0;36m<module>\u001b[0;34m()\u001b[0m\n\u001b[1;32m      2\u001b[0m \u001b[0mtotal\u001b[0m \u001b[0;34m=\u001b[0m \u001b[0;36m0.0\u001b[0m\u001b[0;34m\u001b[0m\u001b[0m\n\u001b[1;32m      3\u001b[0m \u001b[0;32mfor\u001b[0m \u001b[0mn\u001b[0m \u001b[0;32min\u001b[0m \u001b[0mnumbers\u001b[0m\u001b[0;34m:\u001b[0m\u001b[0;34m\u001b[0m\u001b[0m\n\u001b[0;32m----> 4\u001b[0;31m     \u001b[0;32massert\u001b[0m \u001b[0mn\u001b[0m \u001b[0;34m>\u001b[0m \u001b[0;36m0.0\u001b[0m\u001b[0;34m,\u001b[0m \u001b[0;34m'Data should only contain positive values'\u001b[0m\u001b[0;34m\u001b[0m\u001b[0m\n\u001b[0m\u001b[1;32m      5\u001b[0m     \u001b[0mtotal\u001b[0m \u001b[0;34m+=\u001b[0m \u001b[0mn\u001b[0m\u001b[0;34m\u001b[0m\u001b[0m\n\u001b[1;32m      6\u001b[0m \u001b[0;32mprint\u001b[0m\u001b[0;34m(\u001b[0m\u001b[0;34m'total is:'\u001b[0m\u001b[0;34m,\u001b[0m \u001b[0mtotal\u001b[0m\u001b[0;34m)\u001b[0m\u001b[0;34m\u001b[0m\u001b[0m\n",
      "\u001b[0;31mAssertionError\u001b[0m: Data should only contain positive values"
     ]
    }
   ],
   "source": [
    "numbers = [1.5, 2.3, 0.7, -0.001, 4.4]\n",
    "total = 0.0\n",
    "for n in numbers:\n",
    "    assert n > 0.0, 'Data should only contain positive values'\n",
    "    total += n\n",
    "print('total is:', total)"
   ]
  },
  {
   "cell_type": "markdown",
   "metadata": {},
   "source": [
    "Programs like the Firefox browser are full of assertions: 10-20% of the code they contain are there to check that the other 80-90% are working correctly. Broadly speaking, assertions fall into three categories:\n",
    "\n",
    "- A precondition is something that must be true at the start of a function in order for it to work correctly.\n",
    "\n",
    "- A postcondition is something that the function guarantees is true when it finishes.\n",
    "\n",
    "- An invariant is something that is always true at a particular point inside a piece of code.\n",
    "\n",
    "For example, suppose we are representing rectangles using a tuple of four coordinates (x0, y0, x1, y1), representing the lower left and upper right corners of the rectangle. In order to do some calculations, we need to normalize the rectangle so that the lower left corner is at the origin and the longest side is 1.0 units long. This function does that, but checks that its input is correctly formatted and that its result makes sense:"
   ]
  },
  {
   "cell_type": "code",
   "execution_count": 2,
   "metadata": {
    "collapsed": true
   },
   "outputs": [],
   "source": [
    "def normalize_rectangle(rect):\n",
    "    '''Normalizes a rectangle so that it is at the origin and 1.0 units long on its longest axis.'''\n",
    "    assert len(rect) == 4, 'Rectangles must contain 4 coordinates'\n",
    "    x0, y0, x1, y1 = rect\n",
    "    assert x0 < x1, 'Invalid X coordinates'\n",
    "    assert y0 < y1, 'Invalid Y coordinates'\n",
    "\n",
    "    dx = x1 - x0\n",
    "    dy = y1 - y0\n",
    "    if dx > dy:\n",
    "        scaled = float(dx) / dy\n",
    "        upper_x, upper_y = 1.0, scaled\n",
    "    else:\n",
    "        scaled = float(dx) / dy\n",
    "        upper_x, upper_y = scaled, 1.0\n",
    "\n",
    "    assert 0 < upper_x <= 1.0, 'Calculated upper X coordinate invalid'\n",
    "    assert 0 < upper_y <= 1.0, 'Calculated upper Y coordinate invalid'\n",
    "\n",
    "    return (0, 0, upper_x, upper_y)"
   ]
  },
  {
   "cell_type": "markdown",
   "metadata": {},
   "source": [
    "The preconditions on lines 3, 5, and 6 catch invalid inputs:"
   ]
  },
  {
   "cell_type": "code",
   "execution_count": 4,
   "metadata": {},
   "outputs": [
    {
     "ename": "AssertionError",
     "evalue": "Rectangles must contain 4 coordinates",
     "output_type": "error",
     "traceback": [
      "\u001b[0;31m---------------------------------------------------------------------------\u001b[0m",
      "\u001b[0;31mAssertionError\u001b[0m                            Traceback (most recent call last)",
      "\u001b[0;32m<ipython-input-4-147d2dc76773>\u001b[0m in \u001b[0;36m<module>\u001b[0;34m()\u001b[0m\n\u001b[0;32m----> 1\u001b[0;31m \u001b[0;32mprint\u001b[0m\u001b[0;34m(\u001b[0m\u001b[0mnormalize_rectangle\u001b[0m\u001b[0;34m(\u001b[0m \u001b[0;34m(\u001b[0m\u001b[0;36m0.0\u001b[0m\u001b[0;34m,\u001b[0m \u001b[0;36m1.0\u001b[0m\u001b[0;34m,\u001b[0m \u001b[0;36m2.0\u001b[0m\u001b[0;34m)\u001b[0m \u001b[0;34m)\u001b[0m\u001b[0;34m)\u001b[0m \u001b[0;31m# missing the fourth coordinate\u001b[0m\u001b[0;34m\u001b[0m\u001b[0m\n\u001b[0m",
      "\u001b[0;32m<ipython-input-2-9f8adbfdcfc9>\u001b[0m in \u001b[0;36mnormalize_rectangle\u001b[0;34m(rect)\u001b[0m\n\u001b[1;32m      1\u001b[0m \u001b[0;32mdef\u001b[0m \u001b[0mnormalize_rectangle\u001b[0m\u001b[0;34m(\u001b[0m\u001b[0mrect\u001b[0m\u001b[0;34m)\u001b[0m\u001b[0;34m:\u001b[0m\u001b[0;34m\u001b[0m\u001b[0m\n\u001b[1;32m      2\u001b[0m     \u001b[0;34m'''Normalizes a rectangle so that it is at the origin and 1.0 units long on its longest axis.'''\u001b[0m\u001b[0;34m\u001b[0m\u001b[0m\n\u001b[0;32m----> 3\u001b[0;31m     \u001b[0;32massert\u001b[0m \u001b[0mlen\u001b[0m\u001b[0;34m(\u001b[0m\u001b[0mrect\u001b[0m\u001b[0;34m)\u001b[0m \u001b[0;34m==\u001b[0m \u001b[0;36m4\u001b[0m\u001b[0;34m,\u001b[0m \u001b[0;34m'Rectangles must contain 4 coordinates'\u001b[0m\u001b[0;34m\u001b[0m\u001b[0m\n\u001b[0m\u001b[1;32m      4\u001b[0m     \u001b[0mx0\u001b[0m\u001b[0;34m,\u001b[0m \u001b[0my0\u001b[0m\u001b[0;34m,\u001b[0m \u001b[0mx1\u001b[0m\u001b[0;34m,\u001b[0m \u001b[0my1\u001b[0m \u001b[0;34m=\u001b[0m \u001b[0mrect\u001b[0m\u001b[0;34m\u001b[0m\u001b[0m\n\u001b[1;32m      5\u001b[0m     \u001b[0;32massert\u001b[0m \u001b[0mx0\u001b[0m \u001b[0;34m<\u001b[0m \u001b[0mx1\u001b[0m\u001b[0;34m,\u001b[0m \u001b[0;34m'Invalid X coordinates'\u001b[0m\u001b[0;34m\u001b[0m\u001b[0m\n",
      "\u001b[0;31mAssertionError\u001b[0m: Rectangles must contain 4 coordinates"
     ]
    }
   ],
   "source": [
    "print(normalize_rectangle( (0.0, 1.0, 2.0) )) # missing the fourth coordinate"
   ]
  },
  {
   "cell_type": "code",
   "execution_count": 5,
   "metadata": {},
   "outputs": [
    {
     "ename": "AssertionError",
     "evalue": "Invalid X coordinates",
     "output_type": "error",
     "traceback": [
      "\u001b[0;31m---------------------------------------------------------------------------\u001b[0m",
      "\u001b[0;31mAssertionError\u001b[0m                            Traceback (most recent call last)",
      "\u001b[0;32m<ipython-input-5-2cfdb3417f64>\u001b[0m in \u001b[0;36m<module>\u001b[0;34m()\u001b[0m\n\u001b[0;32m----> 1\u001b[0;31m \u001b[0;32mprint\u001b[0m\u001b[0;34m(\u001b[0m\u001b[0mnormalize_rectangle\u001b[0m\u001b[0;34m(\u001b[0m \u001b[0;34m(\u001b[0m\u001b[0;36m4.0\u001b[0m\u001b[0;34m,\u001b[0m \u001b[0;36m2.0\u001b[0m\u001b[0;34m,\u001b[0m \u001b[0;36m1.0\u001b[0m\u001b[0;34m,\u001b[0m \u001b[0;36m5.0\u001b[0m\u001b[0;34m)\u001b[0m \u001b[0;34m)\u001b[0m\u001b[0;34m)\u001b[0m \u001b[0;31m# X axis inverted\u001b[0m\u001b[0;34m\u001b[0m\u001b[0m\n\u001b[0m",
      "\u001b[0;32m<ipython-input-2-9f8adbfdcfc9>\u001b[0m in \u001b[0;36mnormalize_rectangle\u001b[0;34m(rect)\u001b[0m\n\u001b[1;32m      3\u001b[0m     \u001b[0;32massert\u001b[0m \u001b[0mlen\u001b[0m\u001b[0;34m(\u001b[0m\u001b[0mrect\u001b[0m\u001b[0;34m)\u001b[0m \u001b[0;34m==\u001b[0m \u001b[0;36m4\u001b[0m\u001b[0;34m,\u001b[0m \u001b[0;34m'Rectangles must contain 4 coordinates'\u001b[0m\u001b[0;34m\u001b[0m\u001b[0m\n\u001b[1;32m      4\u001b[0m     \u001b[0mx0\u001b[0m\u001b[0;34m,\u001b[0m \u001b[0my0\u001b[0m\u001b[0;34m,\u001b[0m \u001b[0mx1\u001b[0m\u001b[0;34m,\u001b[0m \u001b[0my1\u001b[0m \u001b[0;34m=\u001b[0m \u001b[0mrect\u001b[0m\u001b[0;34m\u001b[0m\u001b[0m\n\u001b[0;32m----> 5\u001b[0;31m     \u001b[0;32massert\u001b[0m \u001b[0mx0\u001b[0m \u001b[0;34m<\u001b[0m \u001b[0mx1\u001b[0m\u001b[0;34m,\u001b[0m \u001b[0;34m'Invalid X coordinates'\u001b[0m\u001b[0;34m\u001b[0m\u001b[0m\n\u001b[0m\u001b[1;32m      6\u001b[0m     \u001b[0;32massert\u001b[0m \u001b[0my0\u001b[0m \u001b[0;34m<\u001b[0m \u001b[0my1\u001b[0m\u001b[0;34m,\u001b[0m \u001b[0;34m'Invalid Y coordinates'\u001b[0m\u001b[0;34m\u001b[0m\u001b[0m\n\u001b[1;32m      7\u001b[0m \u001b[0;34m\u001b[0m\u001b[0m\n",
      "\u001b[0;31mAssertionError\u001b[0m: Invalid X coordinates"
     ]
    }
   ],
   "source": [
    "print(normalize_rectangle( (4.0, 2.0, 1.0, 5.0) )) # X axis inverted"
   ]
  },
  {
   "cell_type": "markdown",
   "metadata": {},
   "source": [
    "The post-conditions on lines 17 and 18 help us catch bugs by telling us when our calculations cannot have been correct. For example, if we normalize a rectangle that is taller than it is wide everything seems OK:\n",
    "\n"
   ]
  },
  {
   "cell_type": "code",
   "execution_count": 6,
   "metadata": {},
   "outputs": [
    {
     "name": "stdout",
     "output_type": "stream",
     "text": [
      "(0, 0, 0.2, 1.0)\n"
     ]
    }
   ],
   "source": [
    "print(normalize_rectangle( (0.0, 0.0, 1.0, 5.0) ))"
   ]
  },
  {
   "cell_type": "markdown",
   "metadata": {},
   "source": [
    "but if we normalize one that’s wider than it is tall, the assertion is triggered:"
   ]
  },
  {
   "cell_type": "code",
   "execution_count": 7,
   "metadata": {},
   "outputs": [
    {
     "ename": "AssertionError",
     "evalue": "Calculated upper Y coordinate invalid",
     "output_type": "error",
     "traceback": [
      "\u001b[0;31m---------------------------------------------------------------------------\u001b[0m",
      "\u001b[0;31mAssertionError\u001b[0m                            Traceback (most recent call last)",
      "\u001b[0;32m<ipython-input-7-a7353228dc6f>\u001b[0m in \u001b[0;36m<module>\u001b[0;34m()\u001b[0m\n\u001b[0;32m----> 1\u001b[0;31m \u001b[0;32mprint\u001b[0m\u001b[0;34m(\u001b[0m\u001b[0mnormalize_rectangle\u001b[0m\u001b[0;34m(\u001b[0m \u001b[0;34m(\u001b[0m\u001b[0;36m0.0\u001b[0m\u001b[0;34m,\u001b[0m \u001b[0;36m0.0\u001b[0m\u001b[0;34m,\u001b[0m \u001b[0;36m5.0\u001b[0m\u001b[0;34m,\u001b[0m \u001b[0;36m1.0\u001b[0m\u001b[0;34m)\u001b[0m \u001b[0;34m)\u001b[0m\u001b[0;34m)\u001b[0m\u001b[0;34m\u001b[0m\u001b[0m\n\u001b[0m",
      "\u001b[0;32m<ipython-input-2-9f8adbfdcfc9>\u001b[0m in \u001b[0;36mnormalize_rectangle\u001b[0;34m(rect)\u001b[0m\n\u001b[1;32m     16\u001b[0m \u001b[0;34m\u001b[0m\u001b[0m\n\u001b[1;32m     17\u001b[0m     \u001b[0;32massert\u001b[0m \u001b[0;36m0\u001b[0m \u001b[0;34m<\u001b[0m \u001b[0mupper_x\u001b[0m \u001b[0;34m<=\u001b[0m \u001b[0;36m1.0\u001b[0m\u001b[0;34m,\u001b[0m \u001b[0;34m'Calculated upper X coordinate invalid'\u001b[0m\u001b[0;34m\u001b[0m\u001b[0m\n\u001b[0;32m---> 18\u001b[0;31m     \u001b[0;32massert\u001b[0m \u001b[0;36m0\u001b[0m \u001b[0;34m<\u001b[0m \u001b[0mupper_y\u001b[0m \u001b[0;34m<=\u001b[0m \u001b[0;36m1.0\u001b[0m\u001b[0;34m,\u001b[0m \u001b[0;34m'Calculated upper Y coordinate invalid'\u001b[0m\u001b[0;34m\u001b[0m\u001b[0m\n\u001b[0m\u001b[1;32m     19\u001b[0m \u001b[0;34m\u001b[0m\u001b[0m\n\u001b[1;32m     20\u001b[0m     \u001b[0;32mreturn\u001b[0m \u001b[0;34m(\u001b[0m\u001b[0;36m0\u001b[0m\u001b[0;34m,\u001b[0m \u001b[0;36m0\u001b[0m\u001b[0;34m,\u001b[0m \u001b[0mupper_x\u001b[0m\u001b[0;34m,\u001b[0m \u001b[0mupper_y\u001b[0m\u001b[0;34m)\u001b[0m\u001b[0;34m\u001b[0m\u001b[0m\n",
      "\u001b[0;31mAssertionError\u001b[0m: Calculated upper Y coordinate invalid"
     ]
    }
   ],
   "source": [
    "print(normalize_rectangle( (0.0, 0.0, 5.0, 1.0) ))"
   ]
  },
  {
   "cell_type": "markdown",
   "metadata": {},
   "source": [
    "Re-reading our function, we realize that line 11 should divide dy by dx rather than dx by dy. (You can display line numbers by typing Ctrl-M, then L.) If we had left out the assertion at the end of the function, we would have created and returned something that had the right shape as a valid answer, but wasn’t. Detecting and debugging that would almost certainly have taken more time in the long run than writing the assertion.\n",
    "\n",
    "But assertions aren’t just about catching errors: they also help people understand programs. Each assertion gives the person reading the program a chance to check (consciously or otherwise) that their understanding matches what the code is doing.\n",
    "\n",
    "Most good programmers follow two rules when adding assertions to their code. The first is, fail early, fail often. The greater the distance between when and where an error occurs and when it’s noticed, the harder the error will be to debug, so good code catches mistakes as early as possible.\n",
    "\n",
    "The second rule is, turn bugs into assertions or tests. Whenever you fix a bug, write an assertion that catches the mistake should you make it again. If you made a mistake in a piece of code, the odds are good that you have made other mistakes nearby, or will make the same mistake (or a related one) the next time you change it. Writing assertions to check that you haven’t regressed (i.e., haven’t re-introduced an old problem) can save a lot of time in the long run, and helps to warn people who are reading the code (including your future self) that this bit is tricky.\n",
    "\n"
   ]
  },
  {
   "attachments": {
    "python-overlapping-ranges.svg": {
     "image/svg+xml": [
      "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"
     ]
    }
   },
   "cell_type": "markdown",
   "metadata": {},
   "source": [
    "# Test-Driven Development\n",
    "An assertion checks that something is true at a particular point in the program. The next step is to check the overall behavior of a piece of code, i.e., to make sure that it produces the right output when it’s given a particular input. For example, suppose we need to find where two or more time series overlap. The range of each time series is represented as a pair of numbers, which are the time the interval started and ended. The output is the largest range that they all include:\n",
    "![python-overlapping-ranges.svg](attachment:python-overlapping-ranges.svg)\n",
    "Most novice programmers would solve this problem like this:\n",
    "\n",
    "1. Write a function range_overlap.\n",
    "2. Call it interactively on two or three different inputs.\n",
    "3. If it produces the wrong answer, fix the function and re-run that test.\n",
    "\n",
    "This clearly works — after all, thousands of scientists are doing it right now — but there’s a better way:\n",
    "\n",
    "1. Write a short function for each test.\n",
    "2. Write a range_overlap function that should pass those tests.\n",
    "3. If range_overlap produces any wrong answers, fix it and re-run the test functions.\n",
    "\n",
    "Writing the tests before writing the function they exercise is called test-driven development (TDD). Its advocates believe it produces better code faster because:\n",
    "\n",
    "1. If people write tests after writing the thing to be tested, they are subject to confirmation bias, i.e., they subconsciously write tests to show that their code is correct, rather than to find errors.\n",
    "2. Writing tests helps programmers figure out what the function is actually supposed to do.\n",
    "\n",
    "Here are three test functions for range_overlap:\n",
    "\n"
   ]
  },
  {
   "cell_type": "code",
   "execution_count": 1,
   "metadata": {},
   "outputs": [
    {
     "ename": "NameError",
     "evalue": "name 'range_overlap' is not defined",
     "output_type": "error",
     "traceback": [
      "\u001b[0;31m---------------------------------------------------------------------------\u001b[0m",
      "\u001b[0;31mNameError\u001b[0m                                 Traceback (most recent call last)",
      "\u001b[0;32m<ipython-input-1-d8be150fbef6>\u001b[0m in \u001b[0;36m<module>\u001b[0;34m()\u001b[0m\n\u001b[0;32m----> 1\u001b[0;31m \u001b[0;32massert\u001b[0m \u001b[0mrange_overlap\u001b[0m\u001b[0;34m(\u001b[0m\u001b[0;34m[\u001b[0m \u001b[0;34m(\u001b[0m\u001b[0;36m0.0\u001b[0m\u001b[0;34m,\u001b[0m \u001b[0;36m1.0\u001b[0m\u001b[0;34m)\u001b[0m \u001b[0;34m]\u001b[0m\u001b[0;34m)\u001b[0m \u001b[0;34m==\u001b[0m \u001b[0;34m(\u001b[0m\u001b[0;36m0.0\u001b[0m\u001b[0;34m,\u001b[0m \u001b[0;36m1.0\u001b[0m\u001b[0;34m)\u001b[0m\u001b[0;34m\u001b[0m\u001b[0m\n\u001b[0m\u001b[1;32m      2\u001b[0m \u001b[0;32massert\u001b[0m \u001b[0mrange_overlap\u001b[0m\u001b[0;34m(\u001b[0m\u001b[0;34m[\u001b[0m \u001b[0;34m(\u001b[0m\u001b[0;36m2.0\u001b[0m\u001b[0;34m,\u001b[0m \u001b[0;36m3.0\u001b[0m\u001b[0;34m)\u001b[0m\u001b[0;34m,\u001b[0m \u001b[0;34m(\u001b[0m\u001b[0;36m2.0\u001b[0m\u001b[0;34m,\u001b[0m \u001b[0;36m4.0\u001b[0m\u001b[0;34m)\u001b[0m \u001b[0;34m]\u001b[0m\u001b[0;34m)\u001b[0m \u001b[0;34m==\u001b[0m \u001b[0;34m(\u001b[0m\u001b[0;36m2.0\u001b[0m\u001b[0;34m,\u001b[0m \u001b[0;36m3.0\u001b[0m\u001b[0;34m)\u001b[0m\u001b[0;34m\u001b[0m\u001b[0m\n\u001b[1;32m      3\u001b[0m \u001b[0;32massert\u001b[0m \u001b[0mrange_overlap\u001b[0m\u001b[0;34m(\u001b[0m\u001b[0;34m[\u001b[0m \u001b[0;34m(\u001b[0m\u001b[0;36m0.0\u001b[0m\u001b[0;34m,\u001b[0m \u001b[0;36m1.0\u001b[0m\u001b[0;34m)\u001b[0m\u001b[0;34m,\u001b[0m \u001b[0;34m(\u001b[0m\u001b[0;36m0.0\u001b[0m\u001b[0;34m,\u001b[0m \u001b[0;36m2.0\u001b[0m\u001b[0;34m)\u001b[0m\u001b[0;34m,\u001b[0m \u001b[0;34m(\u001b[0m\u001b[0;34m-\u001b[0m\u001b[0;36m1.0\u001b[0m\u001b[0;34m,\u001b[0m \u001b[0;36m1.0\u001b[0m\u001b[0;34m)\u001b[0m \u001b[0;34m]\u001b[0m\u001b[0;34m)\u001b[0m \u001b[0;34m==\u001b[0m \u001b[0;34m(\u001b[0m\u001b[0;36m0.0\u001b[0m\u001b[0;34m,\u001b[0m \u001b[0;36m1.0\u001b[0m\u001b[0;34m)\u001b[0m\u001b[0;34m\u001b[0m\u001b[0m\n",
      "\u001b[0;31mNameError\u001b[0m: name 'range_overlap' is not defined"
     ]
    }
   ],
   "source": [
    "assert range_overlap([ (0.0, 1.0) ]) == (0.0, 1.0)\n",
    "assert range_overlap([ (2.0, 3.0), (2.0, 4.0) ]) == (2.0, 3.0)\n",
    "assert range_overlap([ (0.0, 1.0), (0.0, 2.0), (-1.0, 1.0) ]) == (0.0, 1.0)"
   ]
  },
  {
   "cell_type": "markdown",
   "metadata": {},
   "source": [
    "The error is actually reassuring: we haven’t written range_overlap yet, so if the tests passed, it would be a sign that someone else had and that we were accidentally using their function.\n",
    "\n",
    "And as a bonus of writing these tests, we’ve implicitly defined what our input and output look like: we expect a list of pairs as input, and produce a single pair as output.\n",
    "\n",
    "Something important is missing, though. We don’t have any tests for the case where the ranges don’t overlap at all:"
   ]
  },
  {
   "cell_type": "code",
   "execution_count": 3,
   "metadata": {},
   "outputs": [],
   "source": [
    "# assert range_overlap([ (0.0, 1.0), (5.0, 6.0) ]) == ???"
   ]
  },
  {
   "cell_type": "markdown",
   "metadata": {},
   "source": [
    "What should range_overlap do in this case: fail with an error message, produce a special value like (0.0, 0.0) to signal that there’s no overlap, or something else? Any actual implementation of the function will do one of these things; writing the tests first helps us figure out which is best before we’re emotionally invested in whatever we happened to write before we realized there was an issue.\n",
    "\n",
    "And what about this case?"
   ]
  },
  {
   "cell_type": "code",
   "execution_count": 4,
   "metadata": {
    "collapsed": true
   },
   "outputs": [],
   "source": [
    "# assert range_overlap([ (0.0, 1.0), (1.0, 2.0) ]) == ???"
   ]
  },
  {
   "cell_type": "markdown",
   "metadata": {},
   "source": [
    "Do two segments that touch at their endpoints overlap or not? Mathematicians usually say “yes”, but engineers usually say “no”. The best answer is “whatever is most useful in the rest of our program”, but again, any actual implementation of range_overlap is going to do something, and whatever it is ought to be consistent with what it does when there’s no overlap at all.\n",
    "\n",
    "Since we’re planning to use the range this function returns as the X axis in a time series chart, we decide that:\n",
    "\n",
    "1. every overlap has to have non-zero width, and\n",
    "2. we will return the special value None when there’s no overlap.\n",
    "\n",
    "None is built into Python, and means “nothing here”. (Other languages often call the equivalent value null or nil).\n",
    "With that decision made, we can finish writing our last two tests:"
   ]
  },
  {
   "cell_type": "code",
   "execution_count": 5,
   "metadata": {},
   "outputs": [
    {
     "ename": "NameError",
     "evalue": "name 'range_overlap' is not defined",
     "output_type": "error",
     "traceback": [
      "\u001b[0;31m---------------------------------------------------------------------------\u001b[0m",
      "\u001b[0;31mNameError\u001b[0m                                 Traceback (most recent call last)",
      "\u001b[0;32m<ipython-input-5-d877ef460ba2>\u001b[0m in \u001b[0;36m<module>\u001b[0;34m()\u001b[0m\n\u001b[0;32m----> 1\u001b[0;31m \u001b[0;32massert\u001b[0m \u001b[0mrange_overlap\u001b[0m\u001b[0;34m(\u001b[0m\u001b[0;34m[\u001b[0m \u001b[0;34m(\u001b[0m\u001b[0;36m0.0\u001b[0m\u001b[0;34m,\u001b[0m \u001b[0;36m1.0\u001b[0m\u001b[0;34m)\u001b[0m\u001b[0;34m,\u001b[0m \u001b[0;34m(\u001b[0m\u001b[0;36m5.0\u001b[0m\u001b[0;34m,\u001b[0m \u001b[0;36m6.0\u001b[0m\u001b[0;34m)\u001b[0m \u001b[0;34m]\u001b[0m\u001b[0;34m)\u001b[0m \u001b[0;34m==\u001b[0m \u001b[0mNone\u001b[0m\u001b[0;34m\u001b[0m\u001b[0m\n\u001b[0m\u001b[1;32m      2\u001b[0m \u001b[0;32massert\u001b[0m \u001b[0mrange_overlap\u001b[0m\u001b[0;34m(\u001b[0m\u001b[0;34m[\u001b[0m \u001b[0;34m(\u001b[0m\u001b[0;36m0.0\u001b[0m\u001b[0;34m,\u001b[0m \u001b[0;36m1.0\u001b[0m\u001b[0;34m)\u001b[0m\u001b[0;34m,\u001b[0m \u001b[0;34m(\u001b[0m\u001b[0;36m1.0\u001b[0m\u001b[0;34m,\u001b[0m \u001b[0;36m2.0\u001b[0m\u001b[0;34m)\u001b[0m \u001b[0;34m]\u001b[0m\u001b[0;34m)\u001b[0m \u001b[0;34m==\u001b[0m \u001b[0mNone\u001b[0m\u001b[0;34m\u001b[0m\u001b[0m\n",
      "\u001b[0;31mNameError\u001b[0m: name 'range_overlap' is not defined"
     ]
    }
   ],
   "source": [
    "assert range_overlap([ (0.0, 1.0), (5.0, 6.0) ]) == None\n",
    "assert range_overlap([ (0.0, 1.0), (1.0, 2.0) ]) == None\n"
   ]
  },
  {
   "cell_type": "markdown",
   "metadata": {},
   "source": [
    "Again, we get an error because we haven’t written our function, but we’re now ready to do so:\n",
    "\n"
   ]
  },
  {
   "cell_type": "code",
   "execution_count": 7,
   "metadata": {
    "collapsed": true
   },
   "outputs": [],
   "source": [
    "def range_overlap(ranges):\n",
    "    '''Return common overlap among a set of [low, high] ranges.'''\n",
    "    lowest = 0.0\n",
    "    highest = 1.0\n",
    "    for (low, high) in ranges:\n",
    "        lowest = max(lowest, low)\n",
    "        highest = min(highest, high)\n",
    "    return (lowest, highest)"
   ]
  },
  {
   "cell_type": "markdown",
   "metadata": {},
   "source": [
    "(Take a moment to think about why we use max to raise lowest and min to lower highest). We’d now like to re-run our tests, but they’re scattered across three different cells. To make running them easier, let’s put them all in a function:"
   ]
  },
  {
   "cell_type": "code",
   "execution_count": 8,
   "metadata": {
    "collapsed": true
   },
   "outputs": [],
   "source": [
    "def test_range_overlap():\n",
    "    assert range_overlap([ (0.0, 1.0), (5.0, 6.0) ]) == None\n",
    "    assert range_overlap([ (0.0, 1.0), (1.0, 2.0) ]) == None\n",
    "    assert range_overlap([ (0.0, 1.0) ]) == (0.0, 1.0)\n",
    "    assert range_overlap([ (2.0, 3.0), (2.0, 4.0) ]) == (2.0, 3.0)\n",
    "    assert range_overlap([ (0.0, 1.0), (0.0, 2.0), (-1.0, 1.0) ]) == (0.0, 1.0)"
   ]
  },
  {
   "cell_type": "markdown",
   "metadata": {},
   "source": [
    "We can now test range_overlap with a single function call:"
   ]
  },
  {
   "cell_type": "code",
   "execution_count": 9,
   "metadata": {},
   "outputs": [
    {
     "ename": "AssertionError",
     "evalue": "",
     "output_type": "error",
     "traceback": [
      "\u001b[0;31m---------------------------------------------------------------------------\u001b[0m",
      "\u001b[0;31mAssertionError\u001b[0m                            Traceback (most recent call last)",
      "\u001b[0;32m<ipython-input-9-cf9215c96457>\u001b[0m in \u001b[0;36m<module>\u001b[0;34m()\u001b[0m\n\u001b[0;32m----> 1\u001b[0;31m \u001b[0mtest_range_overlap\u001b[0m\u001b[0;34m(\u001b[0m\u001b[0;34m)\u001b[0m\u001b[0;34m\u001b[0m\u001b[0m\n\u001b[0m",
      "\u001b[0;32m<ipython-input-8-5d4cd6fd41d9>\u001b[0m in \u001b[0;36mtest_range_overlap\u001b[0;34m()\u001b[0m\n\u001b[1;32m      1\u001b[0m \u001b[0;32mdef\u001b[0m \u001b[0mtest_range_overlap\u001b[0m\u001b[0;34m(\u001b[0m\u001b[0;34m)\u001b[0m\u001b[0;34m:\u001b[0m\u001b[0;34m\u001b[0m\u001b[0m\n\u001b[0;32m----> 2\u001b[0;31m     \u001b[0;32massert\u001b[0m \u001b[0mrange_overlap\u001b[0m\u001b[0;34m(\u001b[0m\u001b[0;34m[\u001b[0m \u001b[0;34m(\u001b[0m\u001b[0;36m0.0\u001b[0m\u001b[0;34m,\u001b[0m \u001b[0;36m1.0\u001b[0m\u001b[0;34m)\u001b[0m\u001b[0;34m,\u001b[0m \u001b[0;34m(\u001b[0m\u001b[0;36m5.0\u001b[0m\u001b[0;34m,\u001b[0m \u001b[0;36m6.0\u001b[0m\u001b[0;34m)\u001b[0m \u001b[0;34m]\u001b[0m\u001b[0;34m)\u001b[0m \u001b[0;34m==\u001b[0m \u001b[0mNone\u001b[0m\u001b[0;34m\u001b[0m\u001b[0m\n\u001b[0m\u001b[1;32m      3\u001b[0m     \u001b[0;32massert\u001b[0m \u001b[0mrange_overlap\u001b[0m\u001b[0;34m(\u001b[0m\u001b[0;34m[\u001b[0m \u001b[0;34m(\u001b[0m\u001b[0;36m0.0\u001b[0m\u001b[0;34m,\u001b[0m \u001b[0;36m1.0\u001b[0m\u001b[0;34m)\u001b[0m\u001b[0;34m,\u001b[0m \u001b[0;34m(\u001b[0m\u001b[0;36m1.0\u001b[0m\u001b[0;34m,\u001b[0m \u001b[0;36m2.0\u001b[0m\u001b[0;34m)\u001b[0m \u001b[0;34m]\u001b[0m\u001b[0;34m)\u001b[0m \u001b[0;34m==\u001b[0m \u001b[0mNone\u001b[0m\u001b[0;34m\u001b[0m\u001b[0m\n\u001b[1;32m      4\u001b[0m     \u001b[0;32massert\u001b[0m \u001b[0mrange_overlap\u001b[0m\u001b[0;34m(\u001b[0m\u001b[0;34m[\u001b[0m \u001b[0;34m(\u001b[0m\u001b[0;36m0.0\u001b[0m\u001b[0;34m,\u001b[0m \u001b[0;36m1.0\u001b[0m\u001b[0;34m)\u001b[0m \u001b[0;34m]\u001b[0m\u001b[0;34m)\u001b[0m \u001b[0;34m==\u001b[0m \u001b[0;34m(\u001b[0m\u001b[0;36m0.0\u001b[0m\u001b[0;34m,\u001b[0m \u001b[0;36m1.0\u001b[0m\u001b[0;34m)\u001b[0m\u001b[0;34m\u001b[0m\u001b[0m\n\u001b[1;32m      5\u001b[0m     \u001b[0;32massert\u001b[0m \u001b[0mrange_overlap\u001b[0m\u001b[0;34m(\u001b[0m\u001b[0;34m[\u001b[0m \u001b[0;34m(\u001b[0m\u001b[0;36m2.0\u001b[0m\u001b[0;34m,\u001b[0m \u001b[0;36m3.0\u001b[0m\u001b[0;34m)\u001b[0m\u001b[0;34m,\u001b[0m \u001b[0;34m(\u001b[0m\u001b[0;36m2.0\u001b[0m\u001b[0;34m,\u001b[0m \u001b[0;36m4.0\u001b[0m\u001b[0;34m)\u001b[0m \u001b[0;34m]\u001b[0m\u001b[0;34m)\u001b[0m \u001b[0;34m==\u001b[0m \u001b[0;34m(\u001b[0m\u001b[0;36m2.0\u001b[0m\u001b[0;34m,\u001b[0m \u001b[0;36m3.0\u001b[0m\u001b[0;34m)\u001b[0m\u001b[0;34m\u001b[0m\u001b[0m\n",
      "\u001b[0;31mAssertionError\u001b[0m: "
     ]
    }
   ],
   "source": [
    "test_range_overlap()"
   ]
  },
  {
   "cell_type": "markdown",
   "metadata": {},
   "source": [
    "The first test that was supposed to produce None fails, so we know something is wrong with our function. We don’t know whether the other tests passed or failed because Python halted the program as soon as it spotted the first error. Still, some information is better than none, and if we trace the behavior of the function with that input, we realize that we’re initializing lowest and highest to 0.0 and 1.0 respectively, regardless of the input values. This violates another important rule of programming: always initialize from data.\n"
   ]
  },
  {
   "cell_type": "markdown",
   "metadata": {},
   "source": [
    "# Pre- and Post-Conditions\n",
    "Suppose you are writing a function called average that calculates the average of the numbers in a list. What pre-conditions and post-conditions would you write for it? Compare your answer to your neighbor’s: can you think of a function that will pass your tests but not his/hers or vice versa?"
   ]
  },
  {
   "cell_type": "code",
   "execution_count": 21,
   "metadata": {
    "collapsed": true
   },
   "outputs": [],
   "source": [
    "input_list = [0] #modify your input list"
   ]
  },
  {
   "cell_type": "code",
   "execution_count": 22,
   "metadata": {},
   "outputs": [],
   "source": [
    "import numpy\n",
    "# a possible pre-condition:\n",
    "assert len(input_list) > 0, 'List length must be non-zero'\n",
    "# a possible post-condition:\n",
    "average = input_list[len(input_list)/2]\n",
    "assert numpy.min(input_list) <= average <= numpy.max(input_list), 'Average should be between min and max of input values (inclusive)'"
   ]
  },
  {
   "cell_type": "markdown",
   "metadata": {},
   "source": [
    "# Testing Assertions\n",
    "Given a sequence of a number of cars, the function get_total_cars returns the total number of cars."
   ]
  },
  {
   "cell_type": "code",
   "execution_count": 25,
   "metadata": {
    "collapsed": true
   },
   "outputs": [],
   "source": [
    "def get_total(values):\n",
    "    assert len(values) > 0\n",
    "    for element in values:\n",
    "    \tassert int(element)\n",
    "    values = [int(element) for element in values]\n",
    "    total = sum(values)\n",
    "    assert total > 0\n",
    "    return total"
   ]
  },
  {
   "cell_type": "code",
   "execution_count": 26,
   "metadata": {},
   "outputs": [
    {
     "data": {
      "text/plain": [
       "10"
      ]
     },
     "execution_count": 26,
     "metadata": {},
     "output_type": "execute_result"
    }
   ],
   "source": [
    "get_total([1, 2, 3, 4])"
   ]
  },
  {
   "cell_type": "code",
   "execution_count": 28,
   "metadata": {},
   "outputs": [
    {
     "ename": "ValueError",
     "evalue": "invalid literal for int() with base 10: 'a'",
     "output_type": "error",
     "traceback": [
      "\u001b[0;31m---------------------------------------------------------------------------\u001b[0m",
      "\u001b[0;31mValueError\u001b[0m                                Traceback (most recent call last)",
      "\u001b[0;32m<ipython-input-28-2fd204e1040b>\u001b[0m in \u001b[0;36m<module>\u001b[0;34m()\u001b[0m\n\u001b[0;32m----> 1\u001b[0;31m \u001b[0mget_total\u001b[0m\u001b[0;34m(\u001b[0m\u001b[0;34m[\u001b[0m\u001b[0;34m'a'\u001b[0m\u001b[0;34m,\u001b[0m \u001b[0;34m'b'\u001b[0m\u001b[0;34m,\u001b[0m \u001b[0;34m'c'\u001b[0m\u001b[0;34m]\u001b[0m\u001b[0;34m)\u001b[0m\u001b[0;34m\u001b[0m\u001b[0m\n\u001b[0m",
      "\u001b[0;32m<ipython-input-25-c336fa1bf43b>\u001b[0m in \u001b[0;36mget_total\u001b[0;34m(values)\u001b[0m\n\u001b[1;32m      2\u001b[0m     \u001b[0;32massert\u001b[0m \u001b[0mlen\u001b[0m\u001b[0;34m(\u001b[0m\u001b[0mvalues\u001b[0m\u001b[0;34m)\u001b[0m \u001b[0;34m>\u001b[0m \u001b[0;36m0\u001b[0m\u001b[0;34m\u001b[0m\u001b[0m\n\u001b[1;32m      3\u001b[0m     \u001b[0;32mfor\u001b[0m \u001b[0melement\u001b[0m \u001b[0;32min\u001b[0m \u001b[0mvalues\u001b[0m\u001b[0;34m:\u001b[0m\u001b[0;34m\u001b[0m\u001b[0m\n\u001b[0;32m----> 4\u001b[0;31m         \u001b[0;32massert\u001b[0m \u001b[0mint\u001b[0m\u001b[0;34m(\u001b[0m\u001b[0melement\u001b[0m\u001b[0;34m)\u001b[0m\u001b[0;34m\u001b[0m\u001b[0m\n\u001b[0m\u001b[1;32m      5\u001b[0m     \u001b[0mvalues\u001b[0m \u001b[0;34m=\u001b[0m \u001b[0;34m[\u001b[0m\u001b[0mint\u001b[0m\u001b[0;34m(\u001b[0m\u001b[0melement\u001b[0m\u001b[0;34m)\u001b[0m \u001b[0;32mfor\u001b[0m \u001b[0melement\u001b[0m \u001b[0;32min\u001b[0m \u001b[0mvalues\u001b[0m\u001b[0;34m]\u001b[0m\u001b[0;34m\u001b[0m\u001b[0m\n\u001b[1;32m      6\u001b[0m     \u001b[0mtotal\u001b[0m \u001b[0;34m=\u001b[0m \u001b[0msum\u001b[0m\u001b[0;34m(\u001b[0m\u001b[0mvalues\u001b[0m\u001b[0;34m)\u001b[0m\u001b[0;34m\u001b[0m\u001b[0m\n",
      "\u001b[0;31mValueError\u001b[0m: invalid literal for int() with base 10: 'a'"
     ]
    }
   ],
   "source": [
    "get_total(['a', 'b', 'c'])"
   ]
  },
  {
   "cell_type": "markdown",
   "metadata": {},
   "source": [
    "Explain in words what the assertions in this function check, and for each one, give an example of input that will make that assertion fail."
   ]
  },
  {
   "cell_type": "code",
   "execution_count": 32,
   "metadata": {
    "collapsed": true,
    "hideCode": true
   },
   "outputs": [],
   "source": [
    "answer = \"The first assertion checks that the input sequence values is not empty. An empty sequence such as [] will make it fail.\\nThe second assertion checks that each value in the list can be turned into an integer. Input such as [1, 2,'c', 3] will make it fail.\\nThe third assertion checks that the total of the list is greater than 0. Input such as [-10, 2, 3] will make it fail.\""
   ]
  },
  {
   "cell_type": "code",
   "execution_count": 33,
   "metadata": {},
   "outputs": [
    {
     "name": "stdout",
     "output_type": "stream",
     "text": [
      "The first assertion checks that the input sequence values is not empty. An empty sequence such as [] will make it fail.\n",
      "The second assertion checks that each value in the list can be turned into an integer. Input such as [1, 2,'c', 3] will make it fail.\n",
      "The third assertion checks that the total of the list is greater than 0. Input such as [-10, 2, 3] will make it fail.\n"
     ]
    }
   ],
   "source": [
    "print answer"
   ]
  },
  {
   "cell_type": "markdown",
   "metadata": {},
   "source": [
    "# Fixing and Testing\n",
    "Fix range_overlap. Re-run test_range_overlap after each change you make."
   ]
  },
  {
   "cell_type": "code",
   "execution_count": 34,
   "metadata": {
    "collapsed": true,
    "hideCode": true
   },
   "outputs": [],
   "source": [
    "import numpy\n",
    "\n",
    "def range_overlap(ranges):\n",
    "    '''Return common overlap among a set of [low, high] ranges.'''\n",
    "    if not ranges:\n",
    "        # ranges is None or an empty list\n",
    "        return None\n",
    "    lowest, highest = ranges[0]\n",
    "    for (low, high) in ranges[1:]:\n",
    "        lowest = max(lowest, low)\n",
    "        highest = min(highest, high)\n",
    "    if lowest >= highest:  # no overlap\n",
    "        return None\n",
    "    else:\n",
    "        return (lowest, highest)"
   ]
  },
  {
   "cell_type": "markdown",
   "metadata": {},
   "source": [
    "# Key Points\n",
    "- Program defensively, i.e., assume that errors are going to arise, and write code to detect them when they do.\n",
    "- Put assertions in programs to check their state as they run, and to help readers understand how those programs are supposed to work.\n",
    "- Use preconditions to check that the inputs to a function are safe to use.\n",
    "- Use postconditions to check that the output from a function is safe to use.\n",
    "- Write tests before writing code in order to help determine exactly what that code is supposed to do."
   ]
  }
 ],
 "metadata": {
  "kernelspec": {
   "display_name": "Python 2",
   "language": "python",
   "name": "python2"
  },
  "language_info": {
   "codemirror_mode": {
    "name": "ipython",
    "version": 2
   },
   "file_extension": ".py",
   "mimetype": "text/x-python",
   "name": "python",
   "nbconvert_exporter": "python",
   "pygments_lexer": "ipython2",
   "version": "2.7.13"
  }
 },
 "nbformat": 4,
 "nbformat_minor": 2
}
